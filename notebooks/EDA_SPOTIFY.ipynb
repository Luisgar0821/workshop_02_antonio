{
 "cells": [
  {
   "cell_type": "markdown",
   "id": "6e12d19f",
   "metadata": {},
   "source": [
    "## Librerias y configuracion inicial."
   ]
  },
  {
   "cell_type": "code",
   "execution_count": null,
   "id": "df5ace53",
   "metadata": {},
   "outputs": [],
   "source": [
    "import pandas as pd\n",
    "import numpy as np\n",
    "import matplotlib.pyplot as plt\n",
    "import seaborn as sns\n",
    "\n",
    "sns.set(style=\"whitegrid\")\n",
    "plt.rcParams[\"figure.figsize\"] = (10, 5)\n",
    "\n",
    "df = pd.read_csv(\"spotify_dataset.csv\")\n",
    "print(\" Dataset shape:\", df.shape)\n",
    "print(\"\\n Data types:\\n\", df.dtypes)\n",
    "print(\"\\n Missing values:\\n\", df.isnull().sum())\n",
    "print(\"\\n Duplicate rows:\", df.duplicated().sum())\n",
    "df.head()"
   ]
  },
  {
   "cell_type": "markdown",
   "id": "12d67e49",
   "metadata": {},
   "source": [
    "###  Estructura General del Dataset\n",
    "\n",
    "El dataset contiene **114,000 filas** y **21 columnas**, lo que representa una muestra amplia y rica para el análisis musical.\n",
    "\n",
    "#### Tipos de Datos:\n",
    "- Las columnas se dividen principalmente entre:\n",
    "  - **Variables numéricas continuas** (`float64`), como `danceability`, `energy`, `tempo`, etc.\n",
    "  - **Variables categóricas o de texto** (`object`), como `track_id`, `artists`, `track_name`, `track_genre`.\n",
    "  - **Variables discretas enteras** (`int64`), como `popularity`, `key`, `mode`, `time_signature`.\n",
    "  - Una variable booleana (`explicit`) que indica si la canción tiene contenido explícito.\n",
    "\n",
    "Este esquema de datos es adecuado tanto para análisis estadístico clásico como para algoritmos de machine learning supervisado y no supervisado.\n",
    "\n",
    "#### Revisión de Calidad Inicial:  (Sujeto a una segunda revisión de esta hipotesis al final del EDA)\n",
    "-  **No se encontraron valores nulos ni duplicados**, lo que indica que el dataset ya ha sido preprocesado adecuadamente o curado de forma controlada.\n",
    "- La columna `Unnamed: 0` es un **índice generado automáticamente** durante la exportación. Puede eliminarse si no se requiere para trazabilidad o identificación.\n",
    "\n",
    "En general, la estructura de este dataset es robusta, bien definida y lista para exploración profunda y modelamiento.\n"
   ]
  },
  {
   "cell_type": "code",
   "execution_count": null,
   "id": "844ae6ce",
   "metadata": {},
   "outputs": [],
   "source": [
    "numerical_cols = df.select_dtypes(include=['float64', 'int64']).columns.tolist()\n",
    "desc_stats = df[numerical_cols].describe().T\n",
    "desc_stats[\"missing\"] = df[numerical_cols].isnull().sum()\n",
    "desc_stats[\"skew\"] = df[numerical_cols].skew()\n",
    "desc_stats[\"kurtosis\"] = df[numerical_cols].kurt()\n",
    "desc_stats"
   ]
  },
  {
   "cell_type": "markdown",
   "id": "f447c43b",
   "metadata": {},
   "source": [
    "###  Estadísticas Descriptivas, Asimetría y Curtosis\n",
    "\n",
    "El resumen estadístico permite identificar tendencias, dispersión y posibles anomalías en las variables numéricas:\n",
    "\n",
    "####  `popularity`\n",
    "- Media = 33.2, mediana = 35: distribución aproximadamente **simétrica**.\n",
    "- Rango completo desde 0 hasta 100.\n",
    "- Ligera asimetría positiva (skew = 0.04), curtosis ligeramente negativa.\n",
    "\n",
    "####  `duration_ms`\n",
    "- Media ≈ 3.8 minutos (228,029 ms).\n",
    "- Valor **máximo extremadamente alto**: 5,237,295 ms (~87 minutos) — probable outlier.\n",
    "- **Alta asimetría (11.2)** y **curtosis extrema (354.9)**: distribución altamente sesgada.\n",
    "\n",
    "####  `danceability`, `energy`, `valence`\n",
    "- Distribuciones razonablemente normales.\n",
    "- `danceability` con leve sesgo negativo.\n",
    "- `valence` (emocionalidad positiva) está centrada en 0.47, lo cual sugiere un balance entre temas felices y neutros.\n",
    "\n",
    "####  `loudness`\n",
    "- Rango de -49 dB a +4.5 dB (fuertemente asimétrica a la izquierda).\n",
    "- **Curtosis negativa** (menos extremos que una distribución normal), pero aún así valores extremos como -49.5 dB indican outliers.\n",
    "\n",
    "####  `speechiness`, `instrumentalness`, `acousticness`\n",
    "- Todas muestran **alta asimetría positiva**, indicando que la mayoría de canciones tienen valores cercanos a 0.\n",
    "- `speechiness` tiene curtosis de **28.8**, lo que indica presencia de valores extremos (posiblemente canciones 100% habladas como podcasts o spoken word).\n",
    "- `instrumentalness` y `acousticness` tienen distribución polarizada: muchas canciones cantadas o electrónicas, pero también presencia significativa de instrumentales o acústicas puras.\n",
    "\n",
    "####  `tempo`\n",
    "- Rango razonable (hasta 243 BPM), media ≈ 122 BPM.\n",
    "- Asimetría moderada, distribución saludable para análisis rítmico.\n",
    "\n",
    "####  `time_signature`\n",
    "- La mayoría tiene compás de **4/4** (mediana = 4.0), lo cual es estándar en música pop.\n",
    "- Asimetría y curtosis elevadas debido a los pocos valores diferentes (e.g., 3/4, 5/4).\n",
    "\n",
    "###  Conclusiones Clave:\n",
    "- Las variables `duration_ms`, `speechiness`, `instrumentalness` y `acousticness` muestran **sesgo fuerte o valores extremos**, por lo que requieren especial atención en visualización, normalización o eliminación de outliers.\n",
    "- La mayoría de las variables están distribuidas adecuadamente para modelamiento predictivo, con algunas transformaciones opcionales según el objetivo.\n"
   ]
  },
  {
   "cell_type": "code",
   "execution_count": null,
   "id": "bdae30a6",
   "metadata": {},
   "outputs": [],
   "source": [
    "print(\"Top 10 artistas con más canciones:\")\n",
    "print(df['artists'].value_counts().head(10))\n",
    "\n",
    "print(\"\\nTop 10 géneros musicales:\")\n",
    "print(df['track_genre'].value_counts().head(10))"
   ]
  },
  {
   "cell_type": "markdown",
   "id": "ef850543",
   "metadata": {},
   "source": [
    "###  Top 10 Artistas con Más Canciones\n",
    "\n",
    "El dataset está dominado por artistas legendarios como **The Beatles** (279 canciones), **George Jones** y **Stevie Wonder**, lo cual sugiere una fuerte presencia de música clásica y de catálogo. Esto puede influir en las métricas generales como duración y popularidad.\n",
    "\n",
    "###  Top 10 Géneros Musicales\n",
    "\n",
    "Todos los géneros más frecuentes tienen exactamente **1000 canciones**, lo que indica que el dataset ha sido construido de forma **balanceada por género**. Esto es ideal para análisis comparativos y modelos de clasificación, ya que se evita el sesgo por clase desbalanceada.\n"
   ]
  },
  {
   "cell_type": "code",
   "execution_count": null,
   "id": "9aaa80ba",
   "metadata": {},
   "outputs": [],
   "source": [
    "sns.histplot(df['popularity'], bins=30, kde=True, color='green')\n",
    "plt.title(\"Distribución de Popularidad de Canciones\")\n",
    "plt.xlabel(\"Popularidad (0 a 100)\")\n",
    "plt.ylabel(\"Frecuencia\")\n",
    "plt.show()"
   ]
  },
  {
   "cell_type": "markdown",
   "id": "66561b70",
   "metadata": {},
   "source": [
    "###  Distribución de Popularidad\n",
    "\n",
    "La popularidad de las canciones está **sesgada hacia la izquierda**, con un pico muy alto en el rango 0–10. Esto implica que la mayoría de las canciones tienen baja popularidad en plataformas como Spotify.\n",
    "\n",
    "No obstante, también se observa una distribución bimodal secundaria, con picos adicionales en los rangos 20–40 y 50–60. Esto podría deberse a canciones con cierto reconocimiento pero que no alcanzan los niveles virales.\n",
    "\n",
    "Este sesgo debe tenerse en cuenta al entrenar modelos de predicción, y puede sugerir estrategias de marketing digital enfocadas en este segmento intermedio.\n"
   ]
  },
  {
   "cell_type": "code",
   "execution_count": null,
   "id": "b9be861a",
   "metadata": {},
   "outputs": [],
   "source": [
    "df['duration_min'] = df['duration_ms'] / 60000\n",
    "sns.kdeplot(df['duration_min'], fill=True, label=\"Duración (min)\")\n",
    "sns.kdeplot(df['tempo'], fill=True, label=\"Tempo (BPM)\")\n",
    "plt.title(\"Distribución de Duración y Tempo\")\n",
    "plt.legend()\n",
    "plt.show()"
   ]
  },
  {
   "cell_type": "markdown",
   "id": "d0c186b4",
   "metadata": {},
   "source": [
    "###  Distribución de Duración y Tempo\n",
    "\n",
    "La duración de las canciones tiene una distribución normal sesgada hacia la izquierda, con la mayoría de los temas entre **2.5 y 4 minutos**, como es típico en la industria musical comercial.\n",
    "\n",
    "En cambio, el **tempo (BPM)** muestra múltiples picos alrededor de **100 a 130 BPM**, indicando diferentes estilos rítmicos comunes (pop, electrónica, reguetón). Algunos valores extremos por encima de 200 BPM podrían representar outliers o errores de carga.\n",
    "\n",
    "Este análisis ayuda a identificar las \"zonas de confort\" de los géneros más consumidos.\n"
   ]
  },
  {
   "cell_type": "code",
   "execution_count": null,
   "id": "a489366e",
   "metadata": {},
   "outputs": [],
   "source": [
    "for feature in ['speechiness', 'acousticness', 'instrumentalness']:\n",
    "    sns.histplot(df[feature], kde=True, bins=30)\n",
    "    plt.title(f\"Distribución de: {feature}\")\n",
    "    plt.show()"
   ]
  },
  {
   "cell_type": "markdown",
   "id": "21627060",
   "metadata": {},
   "source": [
    "###  Distribución de Speechiness\n",
    "\n",
    "La mayoría de las canciones tienen valores de speechiness cercanos a **0.05**, lo que sugiere que predominan las canciones **cantadas** y no habladas.\n",
    "\n",
    "Valores altos (cercanos a 1.0) son raros, pero pueden representar **podcasts, spoken word o rap explícito**. Este tipo de análisis permite detectar automáticamente contenido hablado o mixto.\n",
    "\n",
    "Esta variable es útil para segmentar entre géneros líricos y géneros hablados.\n"
   ]
  },
  {
   "cell_type": "markdown",
   "id": "6088c255",
   "metadata": {},
   "source": [
    "###  Distribución de Acousticness\n",
    "\n",
    "La mayoría de las canciones tienen un valor de acousticness cercano a **0**, lo cual indica que predomina la producción digital o electrónica sobre los instrumentos acústicos puros.\n",
    "\n",
    "Sin embargo, también hay un **ligero repunte cerca del valor 1**, lo que sugiere una presencia significativa —aunque mucho menor— de canciones acústicas puras (guitarra, piano, voz sin procesamiento).\n",
    "\n",
    "Esta distribución fuertemente sesgada a la izquierda es común en datasets con diversidad de géneros modernos y sugiere que la música acústica representa un **nicho de mercado específico**.\n"
   ]
  },
  {
   "cell_type": "markdown",
   "id": "a3fe7c76",
   "metadata": {},
   "source": [
    "###  Distribución de Instrumentalness\n",
    "\n",
    "La gran mayoría de las canciones tienen un valor de instrumentalness inferior a **0.1**, lo que indica que son canciones con voz o canto, y por tanto no instrumentales.\n",
    "\n",
    "Un pequeño pico hacia el valor **1.0** evidencia la presencia de pistas completamente instrumentales (música ambiental, clásica, electrónica sin vocales). Este grupo minoritario puede ser clave para tareas de clasificación musical o detección automática de contenido sin voz.\n",
    "\n",
    "La fuerte asimetría hacia valores bajos implica que la voz sigue siendo **el componente central de la mayoría de las producciones musicales modernas**.\n"
   ]
  },
  {
   "cell_type": "code",
   "execution_count": 13,
   "id": "77ae2078",
   "metadata": {},
   "outputs": [],
   "source": [
    "df.dropna(subset=['track_name', 'artists', 'album_name'], inplace=True)\n",
    "df.drop_duplicates(inplace=True)"
   ]
  },
  {
   "cell_type": "code",
   "execution_count": null,
   "id": "cf7b24b1",
   "metadata": {},
   "outputs": [],
   "source": [
    "audio_features = ['danceability', 'energy', 'loudness', 'speechiness', 'acousticness',\n",
    "                  'instrumentalness', 'liveness', 'valence', 'tempo']\n",
    "\n",
    "sns.heatmap(df[audio_features].corr(), annot=True, cmap='coolwarm')\n",
    "plt.title(\"Matriz de Correlación entre Características de Audio\")\n",
    "plt.show()"
   ]
  },
  {
   "cell_type": "markdown",
   "id": "cc14b888",
   "metadata": {},
   "source": [
    "###  Correlación entre Características de Audio\n",
    "\n",
    "- **Energy y Loudness** tienen una **alta correlación positiva (0.76)**, lo cual es lógico, ya que las canciones más energéticas suelen estar producidas con mayor volumen percibido.\n",
    "- **Acousticness** tiene correlaciones **negativas fuertes** con energy (-0.73) y loudness (-0.59), reafirmando que las canciones acústicas tienden a ser suaves y menos procesadas.\n",
    "- **Danceability y Valence** muestran una correlación moderada (0.48), indicando que las canciones más bailables suelen tener una carga emocional más positiva.\n",
    "- **Instrumentalness y Valence** tienen una correlación negativa (-0.32), lo que sugiere que las canciones instrumentales tienden a ser más neutras o melancólicas.\n",
    "\n",
    "Estas correlaciones guían el diseño de modelos de recomendación musical y análisis de estilo.\n"
   ]
  },
  {
   "cell_type": "code",
   "execution_count": null,
   "id": "0ceffb15",
   "metadata": {},
   "outputs": [],
   "source": [
    "for feature in audio_features:\n",
    "    sns.scatterplot(x=feature, y='popularity', data=df, alpha=0.3)\n",
    "    plt.title(f\"Popularidad vs {feature}\")\n",
    "    plt.show()"
   ]
  },
  {
   "cell_type": "markdown",
   "id": "f99593fb",
   "metadata": {},
   "source": [
    "## Limpieza de los datos y carga en nuevo dataset como \"spotify_dataset_clean.csv\""
   ]
  },
  {
   "cell_type": "code",
   "execution_count": null,
   "id": "81ae7709",
   "metadata": {},
   "outputs": [],
   "source": [
    "\n",
    "# Cargar el dataset original\n",
    "df = pd.read_csv(\"spotify_dataset.csv\")\n",
    "\n",
    "# =============================\n",
    "# 1. Detección de valores nulos\n",
    "# =============================\n",
    "print(\" Valores nulos por columna:\")\n",
    "print(df.isnull().sum())\n",
    "\n",
    "# =============================\n",
    "# 2. Detección de strings vacíos o solo espacios\n",
    "# =============================\n",
    "# Aplicamos solo a columnas de tipo 'object' (textuales)\n",
    "text_cols = df.select_dtypes(include='object').columns\n",
    "\n",
    "for col in text_cols:\n",
    "    vacios = df[col].apply(lambda x: isinstance(x, str) and x.strip() == '').sum()\n",
    "    if vacios > 0:\n",
    "        print(f\" Valores vacíos detectados en '{col}': {vacios}\")\n",
    "\n",
    "# =============================\n",
    "# 3. Reemplazo de strings vacíos por NaN y limpieza\n",
    "# =============================\n",
    "df[text_cols] = df[text_cols].applymap(lambda x: None if isinstance(x, str) and x.strip() == '' else x)\n",
    "\n",
    "# =============================\n",
    "# 4. Eliminación de filas con valores nulos críticos\n",
    "# =============================\n",
    "# Puedes ajustar aquí qué columnas son esenciales\n",
    "columnas_críticas = ['track_name', 'artists', 'album_name']\n",
    "df_clean = df.dropna(subset=columnas_críticas)\n",
    "\n",
    "# =============================\n",
    "# 5. Eliminación de duplicados exactos\n",
    "# =============================\n",
    "duplicados_antes = df_clean.duplicated().sum()\n",
    "print(f\"🧹 Duplicados encontrados: {duplicados_antes}\")\n",
    "df_clean = df_clean.drop_duplicates()\n",
    "\n",
    "# =============================\n",
    "# 6. Guardar el nuevo dataset limpio\n",
    "# =============================\n",
    "df_clean.to_csv(\"spotify_dataset_clean.csv\", index=False)\n",
    "print(\" Dataset limpio guardado como 'spotify_dataset_clean.csv'\")\n"
   ]
  },
  {
   "cell_type": "code",
   "execution_count": null,
   "id": "93c2683c",
   "metadata": {},
   "outputs": [],
   "source": [
    "# Mostrar forma y resumen rápido\n",
    "print(\" Shape del dataset limpio:\", df_clean.shape)\n",
    "\n",
    "# 1. Verificación general de nulos\n",
    "print(\"\\n Nulos por columna:\")\n",
    "print(df_clean.isnull().sum())\n",
    "\n",
    "# 2. Confirmación total\n",
    "if df_clean.isnull().sum().sum() == 0:\n",
    "    print(\"\\n Confirmado: No hay valores nulos en el dataset limpio.\")\n",
    "else:\n",
    "    print(\"\\n Aún hay valores nulos. Revisa las columnas con conteos mayores a 0.\")\n",
    "\n",
    "# 3. Ver muestra de datos para inspección visual\n",
    "df_clean.head()"
   ]
  }
 ],
 "metadata": {
  "kernelspec": {
   "display_name": "venv",
   "language": "python",
   "name": "python3"
  },
  "language_info": {
   "codemirror_mode": {
    "name": "ipython",
    "version": 3
   },
   "file_extension": ".py",
   "mimetype": "text/x-python",
   "name": "python",
   "nbconvert_exporter": "python",
   "pygments_lexer": "ipython3",
   "version": "3.12.3"
  }
 },
 "nbformat": 4,
 "nbformat_minor": 5
}
